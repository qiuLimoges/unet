{
 "cells": [
  {
   "cell_type": "markdown",
   "metadata": {},
   "source": [
    "log:\n",
    "28 Fev 2019: bien ressuicite à faire marcher UNET avec dataset BrasTumeur, avec contourage \n",
    "Taches suivantes:\n",
    "1. GPU manipulation\n",
    "2. Dicom IRM inference\n",
    "3. Mask - RT structure transformation"
   ]
  }
 ],
 "metadata": {
  "kernelspec": {
   "display_name": "Python 3",
   "language": "python",
   "name": "python3"
  },
  "language_info": {
   "codemirror_mode": {
    "name": "ipython",
    "version": 3
   },
   "file_extension": ".py",
   "mimetype": "text/x-python",
   "name": "python",
   "nbconvert_exporter": "python",
   "pygments_lexer": "ipython3",
   "version": "3.6.10"
  }
 },
 "nbformat": 4,
 "nbformat_minor": 4
}
