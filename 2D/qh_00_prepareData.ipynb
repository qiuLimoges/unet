{
 "cells": [
  {
   "cell_type": "code",
   "execution_count": 3,
   "metadata": {},
   "outputs": [],
   "source": [
    "import os\n",
    "import nibabel as nib\n",
    "import numpy as np\n",
    "from tqdm import tqdm\n",
    "import h5py\n",
    "import json\n",
    "import sys;sys.argv=[''];del sys\n",
    "import argparse"
   ]
  },
  {
   "cell_type": "code",
   "execution_count": 15,
   "metadata": {},
   "outputs": [],
   "source": [
    "parser=argparse.ArgumentParser(\n",
    "    description='convert Decathlon raw nifti data to numpy data files',\n",
    "    add_help=True,formatter_class=argparse.ArgumentDefaultsHelpFormatter)"
   ]
  },
  {
   "cell_type": "code",
   "execution_count": 16,
   "metadata": {},
   "outputs": [],
   "source": [
    "parser.add_argument(\"-- data_path\",default=\"../../data/brainTumeur/\",help=\"path to the raw BraTS datafiles\")\n",
    "parser.add_argument(\"-- save_path\",default=\"../../data/brainTumeur/resultat\",help=\"folder to save numpy data files\")\n",
    "parser.add_argument(\"-- output_filename\",default=\"Task01_BrainTumeur.h5\",help=\"name of the output HDF5 file\")\n",
    "parser.add_argument(\"-- resize\",type=int,default=144,help=\"resize height and width to this size\")\n",
    "parser.add_argument(\"-- split\",type=float,default=0.85,help=\"train/test split ratio\")\n",
    "args=parser.parse_args()\n"
   ]
  },
  {
   "cell_type": "code",
   "execution_count": null,
   "metadata": {},
   "outputs": [],
   "source": []
  }
 ],
 "metadata": {
  "kernelspec": {
   "display_name": "Python 3",
   "language": "python",
   "name": "python3"
  },
  "language_info": {
   "codemirror_mode": {
    "name": "ipython",
    "version": 3
   },
   "file_extension": ".py",
   "mimetype": "text/x-python",
   "name": "python",
   "nbconvert_exporter": "python",
   "pygments_lexer": "ipython3",
   "version": "3.6.10"
  }
 },
 "nbformat": 4,
 "nbformat_minor": 4
}
